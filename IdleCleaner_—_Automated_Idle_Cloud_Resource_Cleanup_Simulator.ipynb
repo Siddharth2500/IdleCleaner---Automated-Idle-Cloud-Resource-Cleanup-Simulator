{
  "nbformat": 4,
  "nbformat_minor": 0,
  "metadata": {
    "colab": {
      "provenance": []
    },
    "kernelspec": {
      "name": "python3",
      "display_name": "Python 3"
    },
    "language_info": {
      "name": "python"
    }
  },
  "cells": [
    {
      "cell_type": "code",
      "execution_count": 14,
      "metadata": {
        "colab": {
          "base_uri": "https://localhost:8080/"
        },
        "id": "6yE-lwLn06lK",
        "outputId": "54336b6c-9b95-41b3-9a76-7537d78a7adc"
      },
      "outputs": [
        {
          "output_type": "stream",
          "name": "stdout",
          "text": [
            "✅ Cleanup audit complete: {'timestamp': '2025-10-19T10:31:28.190105+00:00', 'total_resources': 50, 'idle_candidates': 5, 'cleanup_actions': [{'resource_id': 'res-006', 'type': 'database', 'idle_days': 32, 'action': 'eligible_for_cleanup'}, {'resource_id': 'res-015', 'type': 'storage_bucket', 'idle_days': 88, 'action': 'eligible_for_cleanup'}, {'resource_id': 'res-021', 'type': 'vm_instance', 'idle_days': 47, 'action': 'eligible_for_cleanup'}, {'resource_id': 'res-041', 'type': 'vm_instance', 'idle_days': 46, 'action': 'eligible_for_cleanup'}, {'resource_id': 'res-049', 'type': 'vm_instance', 'idle_days': 78, 'action': 'eligible_for_cleanup'}]}\n"
          ]
        }
      ],
      "source": [
        "# ============================================================\n",
        "# IdleCleaner — Automated Idle Cloud Resource Cleanup Simulator\n",
        "# ============================================================\n",
        "\n",
        "import os\n",
        "import json\n",
        "import random\n",
        "from datetime import datetime, timedelta, timezone\n",
        "\n",
        "# Configuration\n",
        "RESOURCES_FILE = \"data/cloud_resources.json\"\n",
        "CLEANUP_REPORT = \"data/cleanup_report.json\"\n",
        "IDLE_THRESHOLD_DAYS = 30\n",
        "\n",
        "# Ensure directories\n",
        "os.makedirs(os.path.dirname(RESOURCES_FILE), exist_ok=True)\n",
        "os.makedirs(os.path.dirname(CLEANUP_REPORT), exist_ok=True)\n",
        "\n",
        "# Generate dummy cloud-resources if not exists\n",
        "if not os.path.exists(RESOURCES_FILE):\n",
        "    resources = []\n",
        "    now = datetime.now(timezone.utc)\n",
        "    for i in range(1, 51):\n",
        "        created_days_ago = random.randint(1, 120)\n",
        "        last_used_days_ago = random.randint(0, 90)\n",
        "        resources.append({\n",
        "            \"resource_id\": f\"res-{i:03}\",\n",
        "            \"type\": random.choice([\"vm_instance\", \"storage_bucket\", \"database\"]),\n",
        "            \"created_at\": (now - timedelta(days=created_days_ago)).isoformat(),\n",
        "            \"last_used_at\": (now - timedelta(days=last_used_days_ago)).isoformat(),\n",
        "            \"status\": random.choice([\"active\", \"stopped\", \"terminated\"])\n",
        "        })\n",
        "    with open(RESOURCES_FILE, \"w\", encoding=\"utf-8\") as f:\n",
        "        json.dump(resources, f, indent=2)\n",
        "\n",
        "def load_resources(path):\n",
        "    with open(path, \"r\", encoding=\"utf-8\") as f:\n",
        "        return json.load(f)\n",
        "\n",
        "def evaluate_idle(resources, threshold_days):\n",
        "    now = datetime.now(timezone.utc)\n",
        "    report = {\n",
        "        \"timestamp\": now.isoformat(),\n",
        "        \"total_resources\": len(resources),\n",
        "        \"idle_candidates\": 0,\n",
        "        \"cleanup_actions\": [],\n",
        "    }\n",
        "    for res in resources:\n",
        "        last_used = datetime.fromisoformat(res[\"last_used_at\"])\n",
        "        idle_days = (now - last_used).days\n",
        "        if idle_days > threshold_days and res[\"status\"] == \"stopped\":\n",
        "            report[\"idle_candidates\"] += 1\n",
        "            report[\"cleanup_actions\"].append({\n",
        "                \"resource_id\": res[\"resource_id\"],\n",
        "                \"type\": res[\"type\"],\n",
        "                \"idle_days\": idle_days,\n",
        "                \"action\": \"eligible_for_cleanup\"\n",
        "            })\n",
        "    return report\n",
        "\n",
        "def run_cleanup_audit(input_path, output_path, threshold_days):\n",
        "    resources = load_resources(input_path)\n",
        "    report = evaluate_idle(resources, threshold_days)\n",
        "    with open(output_path, \"w\", encoding=\"utf-8\") as f:\n",
        "        json.dump(report, f, indent=2)\n",
        "    return report\n",
        "\n",
        "if __name__ == \"__main__\":\n",
        "    result = run_cleanup_audit(RESOURCES_FILE, CLEANUP_REPORT, IDLE_THRESHOLD_DAYS)\n",
        "    print(\"✅ Cleanup audit complete:\", result)\n"
      ]
    }
  ]
}